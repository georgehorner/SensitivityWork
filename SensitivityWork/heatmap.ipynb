{
 "cells": [
  {
   "cell_type": "code",
   "execution_count": 2,
   "metadata": {},
   "outputs": [],
   "source": [
    "import netCDF4 as nc\n",
    "import xarray as xr\n",
    "import numpy as np\n",
    "import matplotlib as mpl\n",
    "import matplotlib.pyplot as plt\n",
    "from matplotlib import colors\n",
    "from matplotlib.colors import LinearSegmentedColormap\n",
    "import cartopy.crs as ccrs\n",
    "import os\n",
    "import math\n",
    "#import imageio\n",
    "from scipy.ndimage.interpolation import map_coordinates\n",
    "from pprint import pprint\n",
    "import glob\n",
    "from scipy import interpolate\n",
    "from scipy.interpolate import RegularGridInterpolator\n",
    "from copy import copy\n",
    "from copy import deepcopy\n",
    "\n",
    "%matplotlib inline\n",
    "from scipy import stats\n",
    "import multiprocessing as mp\n",
    "import matplotlib.patches as patches"
   ]
  },
  {
   "cell_type": "code",
   "execution_count": 4,
   "metadata": {},
   "outputs": [
    {
     "name": "stdout",
     "output_type": "stream",
     "text": [
      "2000 done\n",
      "2001 done\n",
      "2002 done\n",
      "2003 done\n",
      "2004 done\n",
      "2005 done\n",
      "2006 done\n",
      "2007 done\n",
      "2008 done\n",
      "2009 done\n",
      "2010 done\n",
      "2011 done\n",
      "2012 done\n"
     ]
    }
   ],
   "source": [
    "year=2000\n",
    "for year in range(2000,2013,1):\n",
    "    tsc = xr.open_mfdataset('/net/hardin/disk1/Users/gah20/TSC_2origin/'+str(year)+'/*.nc',combine='nested',concat_dim='time')\n",
    "    detrained = xr.open_mfdataset('/net/hardin/disk1/Users/gah20/TSC_2origin/'+str(year)+'/*.nc',combine='nested',concat_dim='time')['ConvCir']\n",
    "\n",
    "    loclat = tsc['LocOrigin'][:,0,2:62]\n",
    "    loclon = tsc['LocOrigin'][:,1,2:62]\n",
    "\n",
    "    loclatnoconv = np.where(tsc['TSC'][:,2:62]<0,np.nan,loclat)\n",
    "    loclonnoconv = np.where(tsc['TSC'][:,2:62]<0,np.nan,loclon)\n",
    "\n",
    "    lats = np.where(detrained[:,2:62]>0,loclatnoconv,np.nan)\n",
    "    lons = np.where(detrained[:,2:62]>0,loclonnoconv,np.nan)\n",
    "\n",
    "    ilat = np.floor(lats/100)*10\n",
    "    ilon = np.floor(lons/100)*10\n",
    "\n",
    "    heatmap = np.zeros((6,36,60,360))\n",
    "    for i in range(0,6,1):\n",
    "        for j in range(0,36,1):\n",
    "            heatmap[i,j] = np.nansum(np.where((ilat[:]==i*10)&(ilon[:]==j*10),1,0),axis=0)\n",
    "    np.save('/net/hardin/disk1/Users/gah20/Heatmaps/heatmap_dcc'+str(year)+'.npy',heatmap)\n",
    "    print(str(year) + ' done')"
   ]
  },
  {
   "cell_type": "code",
   "execution_count": 20,
   "metadata": {},
   "outputs": [
    {
     "name": "stdout",
     "output_type": "stream",
     "text": [
      "2000 done\n",
      "2001 done\n",
      "2002 done\n",
      "2003 done\n",
      "2004 done\n",
      "2005 done\n",
      "2006 done\n",
      "2007 done\n",
      "2008 done\n",
      "2009 done\n"
     ]
    },
    {
     "ename": "KeyboardInterrupt",
     "evalue": "",
     "output_type": "error",
     "traceback": [
      "\u001b[0;31m---------------------------------------------------------------------------\u001b[0m",
      "\u001b[0;31mKeyboardInterrupt\u001b[0m                         Traceback (most recent call last)",
      "\u001b[0;32m<ipython-input-20-0305acdc269e>\u001b[0m in \u001b[0;36m<module>\u001b[0;34m\u001b[0m\n\u001b[1;32m     28\u001b[0m         \u001b[0;32mfor\u001b[0m \u001b[0mj\u001b[0m \u001b[0;32min\u001b[0m \u001b[0mrange\u001b[0m\u001b[0;34m(\u001b[0m\u001b[0;36m0\u001b[0m\u001b[0;34m,\u001b[0m\u001b[0;36m36\u001b[0m\u001b[0;34m,\u001b[0m\u001b[0;36m1\u001b[0m\u001b[0;34m)\u001b[0m\u001b[0;34m:\u001b[0m\u001b[0;34m\u001b[0m\u001b[0;34m\u001b[0m\u001b[0m\n\u001b[1;32m     29\u001b[0m             \u001b[0mheatmap_c\u001b[0m\u001b[0;34m[\u001b[0m\u001b[0mi\u001b[0m\u001b[0;34m,\u001b[0m\u001b[0mj\u001b[0m\u001b[0;34m]\u001b[0m \u001b[0;34m=\u001b[0m \u001b[0mnp\u001b[0m\u001b[0;34m.\u001b[0m\u001b[0mnanmean\u001b[0m\u001b[0;34m(\u001b[0m\u001b[0mnp\u001b[0m\u001b[0;34m.\u001b[0m\u001b[0mwhere\u001b[0m\u001b[0;34m(\u001b[0m\u001b[0;34m(\u001b[0m\u001b[0milat_c\u001b[0m\u001b[0;34m[\u001b[0m\u001b[0;34m:\u001b[0m\u001b[0;34m]\u001b[0m\u001b[0;34m==\u001b[0m\u001b[0mi\u001b[0m\u001b[0;34m*\u001b[0m\u001b[0;36m10\u001b[0m\u001b[0;34m)\u001b[0m\u001b[0;34m&\u001b[0m\u001b[0;34m(\u001b[0m\u001b[0milon_c\u001b[0m\u001b[0;34m[\u001b[0m\u001b[0;34m:\u001b[0m\u001b[0;34m]\u001b[0m\u001b[0;34m==\u001b[0m\u001b[0mj\u001b[0m\u001b[0;34m*\u001b[0m\u001b[0;36m10\u001b[0m\u001b[0;34m)\u001b[0m\u001b[0;34m,\u001b[0m\u001b[0;36m1\u001b[0m\u001b[0;34m,\u001b[0m\u001b[0;36m0\u001b[0m\u001b[0;34m)\u001b[0m\u001b[0;34m,\u001b[0m\u001b[0maxis\u001b[0m\u001b[0;34m=\u001b[0m\u001b[0;36m0\u001b[0m\u001b[0;34m)\u001b[0m\u001b[0;34m\u001b[0m\u001b[0;34m\u001b[0m\u001b[0m\n\u001b[0;32m---> 30\u001b[0;31m             \u001b[0mheatmap_d\u001b[0m\u001b[0;34m[\u001b[0m\u001b[0mi\u001b[0m\u001b[0;34m,\u001b[0m\u001b[0mj\u001b[0m\u001b[0;34m]\u001b[0m \u001b[0;34m=\u001b[0m \u001b[0mnp\u001b[0m\u001b[0;34m.\u001b[0m\u001b[0mnanmean\u001b[0m\u001b[0;34m(\u001b[0m\u001b[0mnp\u001b[0m\u001b[0;34m.\u001b[0m\u001b[0mwhere\u001b[0m\u001b[0;34m(\u001b[0m\u001b[0;34m(\u001b[0m\u001b[0milat_d\u001b[0m\u001b[0;34m[\u001b[0m\u001b[0;34m:\u001b[0m\u001b[0;34m]\u001b[0m\u001b[0;34m==\u001b[0m\u001b[0mi\u001b[0m\u001b[0;34m*\u001b[0m\u001b[0;36m10\u001b[0m\u001b[0;34m)\u001b[0m\u001b[0;34m&\u001b[0m\u001b[0;34m(\u001b[0m\u001b[0milon_d\u001b[0m\u001b[0;34m[\u001b[0m\u001b[0;34m:\u001b[0m\u001b[0;34m]\u001b[0m\u001b[0;34m==\u001b[0m\u001b[0mj\u001b[0m\u001b[0;34m*\u001b[0m\u001b[0;36m10\u001b[0m\u001b[0;34m)\u001b[0m\u001b[0;34m,\u001b[0m\u001b[0;36m1\u001b[0m\u001b[0;34m,\u001b[0m\u001b[0;36m0\u001b[0m\u001b[0;34m)\u001b[0m\u001b[0;34m,\u001b[0m\u001b[0maxis\u001b[0m\u001b[0;34m=\u001b[0m\u001b[0;36m0\u001b[0m\u001b[0;34m)\u001b[0m\u001b[0;34m\u001b[0m\u001b[0;34m\u001b[0m\u001b[0m\n\u001b[0m\u001b[1;32m     31\u001b[0m     \u001b[0mnp\u001b[0m\u001b[0;34m.\u001b[0m\u001b[0msave\u001b[0m\u001b[0;34m(\u001b[0m\u001b[0;34m'/net/hardin/disk1/Users/gah20/Heatmaps/heatmapmean_c'\u001b[0m\u001b[0;34m+\u001b[0m\u001b[0mstr\u001b[0m\u001b[0;34m(\u001b[0m\u001b[0myear\u001b[0m\u001b[0;34m)\u001b[0m\u001b[0;34m+\u001b[0m\u001b[0;34m'.npy'\u001b[0m\u001b[0;34m,\u001b[0m\u001b[0mheatmap_c\u001b[0m\u001b[0;34m)\u001b[0m\u001b[0;34m\u001b[0m\u001b[0;34m\u001b[0m\u001b[0m\n\u001b[1;32m     32\u001b[0m     \u001b[0mnp\u001b[0m\u001b[0;34m.\u001b[0m\u001b[0msave\u001b[0m\u001b[0;34m(\u001b[0m\u001b[0;34m'/net/hardin/disk1/Users/gah20/Heatmaps/heatmapmean_d'\u001b[0m\u001b[0;34m+\u001b[0m\u001b[0mstr\u001b[0m\u001b[0;34m(\u001b[0m\u001b[0myear\u001b[0m\u001b[0;34m)\u001b[0m\u001b[0;34m+\u001b[0m\u001b[0;34m'.npy'\u001b[0m\u001b[0;34m,\u001b[0m\u001b[0mheatmap_d\u001b[0m\u001b[0;34m)\u001b[0m\u001b[0;34m\u001b[0m\u001b[0;34m\u001b[0m\u001b[0m\n",
      "\u001b[0;32m<__array_function__ internals>\u001b[0m in \u001b[0;36mwhere\u001b[0;34m(*args, **kwargs)\u001b[0m\n",
      "\u001b[0;31mKeyboardInterrupt\u001b[0m: "
     ]
    }
   ],
   "source": [
    "year=2000\n",
    "for year in range(2000,2014,1):\n",
    "    tsc = xr.open_mfdataset('/net/hardin/disk1/Users/gah20/TSC_2origin/'+str(year)+'/*.nc',combine='nested',concat_dim='time')\n",
    "    detrained = xr.open_mfdataset('/net/hardin/disk1/Users/gah20/TSC_2origin/'+str(year)+'/*.nc',combine='nested',concat_dim='time')['ConvCir']\n",
    "\n",
    "    loclat = tsc['LocOrigin'][:,0,2:62]\n",
    "    loclon = tsc['LocOrigin'][:,1,2:62]\n",
    "\n",
    "    loclatnoconv = np.where(tsc['TSC'][:,2:62]==-50,np.nan,loclat)\n",
    "    loclonnoconv = np.where(tsc['TSC'][:,2:62]==-50,np.nan,loclon)\n",
    "\n",
    "    lats_d = np.where(detrained[:,2:62]>0,loclatnoconv,np.nan)\n",
    "    lons_d = np.where(detrained[:,2:62]>0,loclonnoconv,np.nan)\n",
    "\n",
    "    ilat_d = np.floor(lats_d/100)*10\n",
    "    ilon_d= np.floor(lons_d/100)*10\n",
    "\n",
    "    lats_c=np.where(tsc['TSC'][:,2:62]==0)[1]/10\n",
    "    lons_c=np.where(tsc['TSC'][:,2:62]==0)[2]/10\n",
    "\n",
    "    ilat_c = np.floor(lats_c)*10\n",
    "    ilon_c = np.floor(lons_c)*10\n",
    "\n",
    "    heatmap_d = np.zeros((6,36,60,360))\n",
    "    heatmap_c = np.zeros((6,36))\n",
    "\n",
    "    for i in range(0,6,1):\n",
    "        for j in range(0,36,1):\n",
    "            heatmap_c[i,j] = np.nanmean(np.where((ilat_c[:]==i*10)&(ilon_c[:]==j*10),1,0),axis=0)\n",
    "            heatmap_d[i,j] = np.nanmean(np.where((ilat_d[:]==i*10)&(ilon_d[:]==j*10),1,0),axis=0)\n",
    "    np.save('/net/hardin/disk1/Users/gah20/Heatmaps/heatmapmean_c'+str(year)+'.npy',heatmap_c)\n",
    "    np.save('/net/hardin/disk1/Users/gah20/Heatmaps/heatmapmean_d'+str(year)+'.npy',heatmap_d)\n",
    "    print(str(year) + ' done')"
   ]
  },
  {
   "cell_type": "code",
   "execution_count": 19,
   "metadata": {},
   "outputs": [
    {
     "ename": "KeyboardInterrupt",
     "evalue": "",
     "output_type": "error",
     "traceback": [
      "\u001b[0;31m---------------------------------------------------------------------------\u001b[0m",
      "\u001b[0;31mKeyboardInterrupt\u001b[0m                         Traceback (most recent call last)",
      "\u001b[0;32m<ipython-input-19-f765ac4ad8fe>\u001b[0m in \u001b[0;36m<module>\u001b[0;34m\u001b[0m\n\u001b[1;32m     28\u001b[0m         \u001b[0;32mfor\u001b[0m \u001b[0mj\u001b[0m \u001b[0;32min\u001b[0m \u001b[0mrange\u001b[0m\u001b[0;34m(\u001b[0m\u001b[0;36m0\u001b[0m\u001b[0;34m,\u001b[0m\u001b[0;36m360\u001b[0m\u001b[0;34m,\u001b[0m\u001b[0;36m1\u001b[0m\u001b[0;34m)\u001b[0m\u001b[0;34m:\u001b[0m\u001b[0;34m\u001b[0m\u001b[0;34m\u001b[0m\u001b[0m\n\u001b[1;32m     29\u001b[0m             \u001b[0mheatmap_c\u001b[0m\u001b[0;34m[\u001b[0m\u001b[0mi\u001b[0m\u001b[0;34m,\u001b[0m\u001b[0mj\u001b[0m\u001b[0;34m]\u001b[0m \u001b[0;34m=\u001b[0m \u001b[0mnp\u001b[0m\u001b[0;34m.\u001b[0m\u001b[0mnansum\u001b[0m\u001b[0;34m(\u001b[0m\u001b[0mnp\u001b[0m\u001b[0;34m.\u001b[0m\u001b[0mwhere\u001b[0m\u001b[0;34m(\u001b[0m\u001b[0;34m(\u001b[0m\u001b[0milat_c\u001b[0m\u001b[0;34m[\u001b[0m\u001b[0;34m:\u001b[0m\u001b[0;34m]\u001b[0m\u001b[0;34m==\u001b[0m\u001b[0mi\u001b[0m\u001b[0;34m)\u001b[0m\u001b[0;34m&\u001b[0m\u001b[0;34m(\u001b[0m\u001b[0milon_c\u001b[0m\u001b[0;34m[\u001b[0m\u001b[0;34m:\u001b[0m\u001b[0;34m]\u001b[0m\u001b[0;34m==\u001b[0m\u001b[0mj\u001b[0m\u001b[0;34m)\u001b[0m\u001b[0;34m,\u001b[0m\u001b[0;36m1\u001b[0m\u001b[0;34m,\u001b[0m\u001b[0;36m0\u001b[0m\u001b[0;34m)\u001b[0m\u001b[0;34m,\u001b[0m\u001b[0maxis\u001b[0m\u001b[0;34m=\u001b[0m\u001b[0;36m0\u001b[0m\u001b[0;34m)\u001b[0m\u001b[0;34m\u001b[0m\u001b[0;34m\u001b[0m\u001b[0m\n\u001b[0;32m---> 30\u001b[0;31m             \u001b[0mheatmap_d\u001b[0m\u001b[0;34m[\u001b[0m\u001b[0mi\u001b[0m\u001b[0;34m,\u001b[0m\u001b[0mj\u001b[0m\u001b[0;34m]\u001b[0m \u001b[0;34m=\u001b[0m \u001b[0mnp\u001b[0m\u001b[0;34m.\u001b[0m\u001b[0mnansum\u001b[0m\u001b[0;34m(\u001b[0m\u001b[0mnp\u001b[0m\u001b[0;34m.\u001b[0m\u001b[0mwhere\u001b[0m\u001b[0;34m(\u001b[0m\u001b[0;34m(\u001b[0m\u001b[0milat_d\u001b[0m\u001b[0;34m[\u001b[0m\u001b[0;34m:\u001b[0m\u001b[0;34m]\u001b[0m\u001b[0;34m==\u001b[0m\u001b[0mi\u001b[0m\u001b[0;34m)\u001b[0m\u001b[0;34m&\u001b[0m\u001b[0;34m(\u001b[0m\u001b[0milon_d\u001b[0m\u001b[0;34m[\u001b[0m\u001b[0;34m:\u001b[0m\u001b[0;34m]\u001b[0m\u001b[0;34m==\u001b[0m\u001b[0mj\u001b[0m\u001b[0;34m)\u001b[0m\u001b[0;34m,\u001b[0m\u001b[0;36m1\u001b[0m\u001b[0;34m,\u001b[0m\u001b[0;36m0\u001b[0m\u001b[0;34m)\u001b[0m\u001b[0;34m,\u001b[0m\u001b[0maxis\u001b[0m\u001b[0;34m=\u001b[0m\u001b[0;36m0\u001b[0m\u001b[0;34m)\u001b[0m\u001b[0;34m\u001b[0m\u001b[0;34m\u001b[0m\u001b[0m\n\u001b[0m\u001b[1;32m     31\u001b[0m     \u001b[0mnp\u001b[0m\u001b[0;34m.\u001b[0m\u001b[0msave\u001b[0m\u001b[0;34m(\u001b[0m\u001b[0;34m'/net/hardin/disk1/Users/gah20/Heatmaps/heatmap_1_deg_c'\u001b[0m\u001b[0;34m+\u001b[0m\u001b[0mstr\u001b[0m\u001b[0;34m(\u001b[0m\u001b[0myear\u001b[0m\u001b[0;34m)\u001b[0m\u001b[0;34m+\u001b[0m\u001b[0;34m'.npy'\u001b[0m\u001b[0;34m,\u001b[0m\u001b[0mheatmap_c\u001b[0m\u001b[0;34m)\u001b[0m\u001b[0;34m\u001b[0m\u001b[0;34m\u001b[0m\u001b[0m\n\u001b[1;32m     32\u001b[0m     \u001b[0mnp\u001b[0m\u001b[0;34m.\u001b[0m\u001b[0msave\u001b[0m\u001b[0;34m(\u001b[0m\u001b[0;34m'/net/hardin/disk1/Users/gah20/Heatmaps/heatmap_1deg_d'\u001b[0m\u001b[0;34m+\u001b[0m\u001b[0mstr\u001b[0m\u001b[0;34m(\u001b[0m\u001b[0myear\u001b[0m\u001b[0;34m)\u001b[0m\u001b[0;34m+\u001b[0m\u001b[0;34m'.npy'\u001b[0m\u001b[0;34m,\u001b[0m\u001b[0mheatmap_d\u001b[0m\u001b[0;34m)\u001b[0m\u001b[0;34m\u001b[0m\u001b[0;34m\u001b[0m\u001b[0m\n",
      "\u001b[0;32m<__array_function__ internals>\u001b[0m in \u001b[0;36mwhere\u001b[0;34m(*args, **kwargs)\u001b[0m\n",
      "\u001b[0;31mKeyboardInterrupt\u001b[0m: "
     ]
    }
   ],
   "source": [
    "year=2000\n",
    "for year in range(2000,2014,1):\n",
    "    tsc = xr.open_mfdataset('/net/hardin/disk1/Users/gah20/TSC_2origin/'+str(year)+'/*.nc',combine='nested',concat_dim='time')\n",
    "    detrained = xr.open_mfdataset('/net/hardin/disk1/Users/gah20/TSC_2origin/'+str(year)+'/*.nc',combine='nested',concat_dim='time')['ConvCir']\n",
    "\n",
    "    loclat = tsc['LocOrigin'][:,0,2:62]\n",
    "    loclon = tsc['LocOrigin'][:,1,2:62]\n",
    "\n",
    "    loclatnoconv = np.where(tsc['TSC'][:,2:62]==-50,np.nan,loclat)\n",
    "    loclonnoconv = np.where(tsc['TSC'][:,2:62]==-50,np.nan,loclon)\n",
    "\n",
    "    lats_d = np.where(detrained[:,2:62]>0,loclatnoconv,np.nan)\n",
    "    lons_d = np.where(detrained[:,2:62]>0,loclonnoconv,np.nan)\n",
    "\n",
    "    ilat_d = np.floor(lats_d/100)\n",
    "    ilon_d= np.floor(lons_d/100)\n",
    "    \n",
    "    lats_c=np.where(tsc['TSC'][:,2:62]==0)[1]\n",
    "    lons_c=np.where(tsc['TSC'][:,2:62]==0)[2]\n",
    "\n",
    "    ilat_c = np.floor(lats_c)\n",
    "    ilon_c = np.floor(lons_c)\n",
    "\n",
    "    heatmap_d = np.zeros((60,360,60,360))\n",
    "    heatmap_c = np.zeros((60,360))\n",
    "\n",
    "    for i in range(0,60,1):\n",
    "        for j in range(0,360,1):\n",
    "            heatmap_c[i,j] = np.nansum(np.where((ilat_c[:]==i)&(ilon_c[:]==j),1,0),axis=0)\n",
    "            heatmap_d[i,j] = np.nansum(np.where((ilat_d[:]==i)&(ilon_d[:]==j),1,0),axis=0)\n",
    "    np.save('/net/hardin/disk1/Users/gah20/Heatmaps/heatmap_1_deg_c'+str(year)+'.npy',heatmap_c)\n",
    "    np.save('/net/hardin/disk1/Users/gah20/Heatmaps/heatmap_1deg_d'+str(year)+'.npy',heatmap_d)\n",
    "    print(str(year) + ' done')"
   ]
  },
  {
   "cell_type": "code",
   "execution_count": 4,
   "metadata": {},
   "outputs": [
    {
     "ename": "NameError",
     "evalue": "name 'year' is not defined",
     "output_type": "error",
     "traceback": [
      "\u001b[0;31m---------------------------------------------------------------------------\u001b[0m",
      "\u001b[0;31mNameError\u001b[0m                                 Traceback (most recent call last)",
      "\u001b[0;32m<ipython-input-4-eea6d0aac141>\u001b[0m in \u001b[0;36m<module>\u001b[0;34m\u001b[0m\n\u001b[0;32m----> 1\u001b[0;31m \u001b[0mtsc\u001b[0m \u001b[0;34m=\u001b[0m \u001b[0mxr\u001b[0m\u001b[0;34m.\u001b[0m\u001b[0mopen_mfdataset\u001b[0m\u001b[0;34m(\u001b[0m\u001b[0;34m'/net/hardin/disk1/Users/gah20/TSC_2origin/'\u001b[0m\u001b[0;34m+\u001b[0m\u001b[0mstr\u001b[0m\u001b[0;34m(\u001b[0m\u001b[0myear\u001b[0m\u001b[0;34m)\u001b[0m\u001b[0;34m+\u001b[0m\u001b[0;34m'/*.nc'\u001b[0m\u001b[0;34m,\u001b[0m\u001b[0mcombine\u001b[0m\u001b[0;34m=\u001b[0m\u001b[0;34m'nested'\u001b[0m\u001b[0;34m,\u001b[0m\u001b[0mconcat_dim\u001b[0m\u001b[0;34m=\u001b[0m\u001b[0;34m'time'\u001b[0m\u001b[0;34m)\u001b[0m\u001b[0;34m\u001b[0m\u001b[0;34m\u001b[0m\u001b[0m\n\u001b[0m\u001b[1;32m      2\u001b[0m \u001b[0mdetrained\u001b[0m \u001b[0;34m=\u001b[0m \u001b[0mxr\u001b[0m\u001b[0;34m.\u001b[0m\u001b[0mopen_mfdataset\u001b[0m\u001b[0;34m(\u001b[0m\u001b[0;34m'/net/hardin/disk1/Users/gah20/TSC_2origin/'\u001b[0m\u001b[0;34m+\u001b[0m\u001b[0mstr\u001b[0m\u001b[0;34m(\u001b[0m\u001b[0myear\u001b[0m\u001b[0;34m)\u001b[0m\u001b[0;34m+\u001b[0m\u001b[0;34m'/*.nc'\u001b[0m\u001b[0;34m,\u001b[0m\u001b[0mcombine\u001b[0m\u001b[0;34m=\u001b[0m\u001b[0;34m'nested'\u001b[0m\u001b[0;34m,\u001b[0m\u001b[0mconcat_dim\u001b[0m\u001b[0;34m=\u001b[0m\u001b[0;34m'time'\u001b[0m\u001b[0;34m)\u001b[0m\u001b[0;34m[\u001b[0m\u001b[0;34m'ConvCir'\u001b[0m\u001b[0;34m]\u001b[0m\u001b[0;34m\u001b[0m\u001b[0;34m\u001b[0m\u001b[0m\n\u001b[1;32m      3\u001b[0m \u001b[0;34m\u001b[0m\u001b[0m\n\u001b[1;32m      4\u001b[0m \u001b[0mloclat\u001b[0m \u001b[0;34m=\u001b[0m \u001b[0mtsc\u001b[0m\u001b[0;34m[\u001b[0m\u001b[0;34m'LocOrigin'\u001b[0m\u001b[0;34m]\u001b[0m\u001b[0;34m[\u001b[0m\u001b[0;34m:\u001b[0m\u001b[0;34m,\u001b[0m\u001b[0;36m0\u001b[0m\u001b[0;34m,\u001b[0m\u001b[0;36m2\u001b[0m\u001b[0;34m:\u001b[0m\u001b[0;36m62\u001b[0m\u001b[0;34m]\u001b[0m\u001b[0;34m\u001b[0m\u001b[0;34m\u001b[0m\u001b[0m\n\u001b[1;32m      5\u001b[0m \u001b[0mloclon\u001b[0m \u001b[0;34m=\u001b[0m \u001b[0mtsc\u001b[0m\u001b[0;34m[\u001b[0m\u001b[0;34m'LocOrigin'\u001b[0m\u001b[0;34m]\u001b[0m\u001b[0;34m[\u001b[0m\u001b[0;34m:\u001b[0m\u001b[0;34m,\u001b[0m\u001b[0;36m1\u001b[0m\u001b[0;34m,\u001b[0m\u001b[0;36m2\u001b[0m\u001b[0;34m:\u001b[0m\u001b[0;36m62\u001b[0m\u001b[0;34m]\u001b[0m\u001b[0;34m\u001b[0m\u001b[0;34m\u001b[0m\u001b[0m\n",
      "\u001b[0;31mNameError\u001b[0m: name 'year' is not defined"
     ]
    }
   ],
   "source": [
    "tsc = xr.open_mfdataset('/net/hardin/disk1/Users/gah20/TSC_2origin/'+str(year)+'/*.nc',combine='nested',concat_dim='time')\n",
    "detrained = xr.open_mfdataset('/net/hardin/disk1/Users/gah20/TSC_2origin/'+str(year)+'/*.nc',combine='nested',concat_dim='time')['ConvCir']\n",
    "\n",
    "loclat = tsc['LocOrigin'][:,0,2:62]\n",
    "loclon = tsc['LocOrigin'][:,1,2:62]\n",
    "\n",
    "loclatnoconv = np.where(tsc['TSC'][:,2:62]==-50,np.nan,loclat)\n",
    "loclonnoconv = np.where(tsc['TSC'][:,2:62]==-50,np.nan,loclon)\n",
    "\n",
    "lats_d = np.where(detrained[:,2:62]>0,loclatnoconv,np.nan)\n",
    "lons_d = np.where(detrained[:,2:62]>0,loclonnoconv,np.nan)\n",
    "lats_d = np.where(lats_d>600,np.nan,lats_d)\n",
    "lons_d = np.where(lats_d>600,np.nan,lons_d)\n",
    "ilat_d = np.floor(lats_d/10)\n",
    "ilon_d= np.floor(lons_d/10)\n",
    "\n",
    "heatmap_d = np.zeros((60,360,60,360))\n"
   ]
  },
  {
   "cell_type": "code",
   "execution_count": 3,
   "metadata": {},
   "outputs": [
    {
     "ename": "NameError",
     "evalue": "name 'ilat_d' is not defined",
     "output_type": "error",
     "traceback": [
      "\u001b[0;31m---------------------------------------------------------------------------\u001b[0m",
      "\u001b[0;31mNameError\u001b[0m                                 Traceback (most recent call last)",
      "\u001b[0;32m<ipython-input-3-3d9b0c77a868>\u001b[0m in \u001b[0;36m<module>\u001b[0;34m\u001b[0m\n\u001b[1;32m      1\u001b[0m \u001b[0mmaps\u001b[0m \u001b[0;34m=\u001b[0m \u001b[0mnp\u001b[0m\u001b[0;34m.\u001b[0m\u001b[0mzeros\u001b[0m\u001b[0;34m(\u001b[0m\u001b[0;34m(\u001b[0m\u001b[0;36m60\u001b[0m\u001b[0;34m,\u001b[0m\u001b[0;36m360\u001b[0m\u001b[0;34m,\u001b[0m\u001b[0;36m60\u001b[0m\u001b[0;34m,\u001b[0m\u001b[0;36m360\u001b[0m\u001b[0;34m)\u001b[0m\u001b[0;34m)\u001b[0m\u001b[0;34m\u001b[0m\u001b[0;34m\u001b[0m\u001b[0m\n\u001b[0;32m----> 2\u001b[0;31m \u001b[0mnp\u001b[0m\u001b[0;34m.\u001b[0m\u001b[0madd\u001b[0m\u001b[0;34m.\u001b[0m\u001b[0mat\u001b[0m\u001b[0;34m(\u001b[0m\u001b[0mmaps\u001b[0m\u001b[0;34m[\u001b[0m\u001b[0milat_d\u001b[0m\u001b[0;34m,\u001b[0m\u001b[0milon_d\u001b[0m\u001b[0;34m]\u001b[0m\u001b[0;34m,\u001b[0m\u001b[0;34m[\u001b[0m\u001b[0milat_d\u001b[0m\u001b[0;34m,\u001b[0m\u001b[0milon_d\u001b[0m\u001b[0;34m]\u001b[0m\u001b[0;34m,\u001b[0m\u001b[0;36m1\u001b[0m\u001b[0;34m)\u001b[0m\u001b[0;34m\u001b[0m\u001b[0;34m\u001b[0m\u001b[0m\n\u001b[0m",
      "\u001b[0;31mNameError\u001b[0m: name 'ilat_d' is not defined"
     ]
    }
   ],
   "source": [
    "maps = np.zeros((60,360,60,360))\n",
    "np.add.at(maps[ilat_d,ilon_d],[ilat_d,ilon_d],1)"
   ]
  },
  {
   "cell_type": "code",
   "execution_count": 57,
   "metadata": {},
   "outputs": [],
   "source": [
    "ilat_d = ilat_d.astype(int)\n",
    "ilat_d = np.where(ilat_d<0,np.nan,ilat_d)\n",
    "ilon_d = ilon_d.astype(int)\n",
    "ilon_d = np.where(ilon_d<0,np.nan,ilon_d)"
   ]
  },
  {
   "cell_type": "code",
   "execution_count": 84,
   "metadata": {},
   "outputs": [
    {
     "ename": "KeyboardInterrupt",
     "evalue": "",
     "output_type": "error",
     "traceback": [
      "\u001b[0;31m---------------------------------------------------------------------------\u001b[0m",
      "\u001b[0;31mKeyboardInterrupt\u001b[0m                         Traceback (most recent call last)",
      "\u001b[0;32m<ipython-input-84-ebbd6b43ea1b>\u001b[0m in \u001b[0;36m<module>\u001b[0;34m\u001b[0m\n\u001b[0;32m----> 1\u001b[0;31m \u001b[0msum\u001b[0m\u001b[0;34m(\u001b[0m\u001b[0;34m~\u001b[0m\u001b[0mnp\u001b[0m\u001b[0;34m.\u001b[0m\u001b[0misnan\u001b[0m\u001b[0;34m(\u001b[0m\u001b[0milat_d\u001b[0m\u001b[0;34m[\u001b[0m\u001b[0;34m:\u001b[0m\u001b[0;34m]\u001b[0m\u001b[0;34m)\u001b[0m\u001b[0;34m.\u001b[0m\u001b[0mflatten\u001b[0m\u001b[0;34m(\u001b[0m\u001b[0;34m)\u001b[0m\u001b[0;34m)\u001b[0m\u001b[0;34m\u001b[0m\u001b[0;34m\u001b[0m\u001b[0m\n\u001b[0m",
      "\u001b[0;31mKeyboardInterrupt\u001b[0m: "
     ]
    }
   ],
   "source": [
    "sum(~np.isnan(ilat_d[:]).flatten())"
   ]
  },
  {
   "cell_type": "code",
   "execution_count": 1,
   "metadata": {},
   "outputs": [
    {
     "ename": "NameError",
     "evalue": "name 'maps' is not defined",
     "output_type": "error",
     "traceback": [
      "\u001b[0;31m---------------------------------------------------------------------------\u001b[0m",
      "\u001b[0;31mNameError\u001b[0m                                 Traceback (most recent call last)",
      "\u001b[0;32m<ipython-input-1-b97930dbbf05>\u001b[0m in \u001b[0;36m<module>\u001b[0;34m\u001b[0m\n\u001b[0;32m----> 1\u001b[0;31m \u001b[0mmaps\u001b[0m\u001b[0;34m[\u001b[0m\u001b[0milats\u001b[0m\u001b[0;34m,\u001b[0m\u001b[0milons\u001b[0m\u001b[0;34m]\u001b[0m\u001b[0;34m\u001b[0m\u001b[0;34m\u001b[0m\u001b[0m\n\u001b[0m",
      "\u001b[0;31mNameError\u001b[0m: name 'maps' is not defined"
     ]
    }
   ],
   "source": [
    "maps[ilats,ilons]"
   ]
  },
  {
   "cell_type": "code",
   "execution_count": 67,
   "metadata": {},
   "outputs": [
    {
     "data": {
      "text/plain": [
       "array([16, 15, 14, ..., 49, 52, 54])"
      ]
     },
     "execution_count": 67,
     "metadata": {},
     "output_type": "execute_result"
    }
   ],
   "source": [
    "ilat_d[~np.isnan(ilat_d)].astype(int)"
   ]
  },
  {
   "cell_type": "code",
   "execution_count": null,
   "metadata": {},
   "outputs": [],
   "source": []
  }
 ],
 "metadata": {
  "kernelspec": {
   "display_name": "py3_jl",
   "language": "python",
   "name": "python3"
  },
  "language_info": {
   "codemirror_mode": {
    "name": "ipython",
    "version": 3
   },
   "file_extension": ".py",
   "mimetype": "text/x-python",
   "name": "python",
   "nbconvert_exporter": "python",
   "pygments_lexer": "ipython3",
   "version": "3.7.9"
  }
 },
 "nbformat": 4,
 "nbformat_minor": 2
}
