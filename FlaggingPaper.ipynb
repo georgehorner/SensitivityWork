{
 "cells": [
  {
   "cell_type": "code",
   "execution_count": 1,
   "metadata": {},
   "outputs": [],
   "source": [
    "import netCDF4 as nc\n",
    "import xarray as xr\n",
    "import numpy as np\n",
    "import matplotlib.pyplot as plt\n",
    "from matplotlib import colors\n",
    "from matplotlib.colors import LinearSegmentedColormap\n",
    "import cartopy.crs as ccrs\n",
    "import os\n",
    "import math\n",
    "#import imageio\n",
    "from scipy.ndimage.interpolation import map_coordinates\n",
    "from pprint import pprint\n",
    "import glob\n",
    "from scipy import interpolate\n",
    "from scipy.interpolate import RegularGridInterpolator\n",
    "import copy\n",
    "#from mpl_toolkits.axes_grid1 import make_axes_locatable\n",
    "%matplotlib inline\n",
    "from scipy import stats\n",
    "import multiprocessing as mp"
   ]
  },
  {
   "cell_type": "code",
   "execution_count": 2,
   "metadata": {},
   "outputs": [],
   "source": [
    "_wbgyr_cdict = {'red': ((0.0,  255./255, 255./255),\n",
    "                        (0.125, 173./255, 173./255),\n",
    "                        (0.25,  95./255,  95./255),\n",
    "                        (0.375, 73./255,  73./255),\n",
    "                        (0.5,  165./255, 164./255),\n",
    "                        (0.625, 248./255, 248./255),\n",
    "                        (0.75, 236./255, 236./255),\n",
    "                        (0.875, 200./255, 200./255),\n",
    "                        (1.0,  146./255, 146./255)),\n",
    "                'green': ((0.0,  255./255, 255./255),\n",
    "                          (0.125, 224./255, 224./255),\n",
    "                          (0.25, 163./255, 163./255),\n",
    "                          (0.375, 166./255, 166./255),\n",
    "                          (0.5,  207./255, 207./255),\n",
    "                          (0.625, 184./255, 184./255),\n",
    "                          (0.75,  86./255,  86./255),\n",
    "                          (0.875, 29./255,  29./255),\n",
    "                          (1.0,   21./255,  21./255)),\n",
    "                'blue': ((0.0,  255./255, 255./255),\n",
    "                         (0.125, 248./255, 248./255),\n",
    "                         (0.25, 214./255, 214./255),\n",
    "                         (0.375, 120./255, 120./255),\n",
    "                         (0.5,   81./255,  81./255),\n",
    "                         (0.625, 73./255,  73./255),\n",
    "                         (0.75,  41./255,  41./255),\n",
    "                         (0.875, 38./255,  38./255),\n",
    "                         (1.0,   25./255,  25./255))}\n",
    "# And reverse\n",
    "_wbgyr_cdict_r = copy.deepcopy(_wbgyr_cdict)\n",
    "for i in _wbgyr_cdict_r.keys():\n",
    "    _wbgyr_cdict_r[i] = [(1-j[0], j[1], j[2]) for j in _wbgyr_cdict_r[i]]\n",
    "    _wbgyr_cdict_r[i].reverse()\n",
    "\n",
    "cmap = LinearSegmentedColormap('WBGYR', _wbgyr_cdict)\n",
    "cmap.set_bad('#D2D2D2')\n",
    "plt.register_cmap(cmap=cmap)\n",
    "\n",
    "cmap_r = LinearSegmentedColormap('WBGYR', _wbgyr_cdict_r)\n",
    "cmap_r.set_bad('#D2D2D2')\n",
    "plt.register_cmap(cmap=cmap_r)"
   ]
  },
  {
   "cell_type": "code",
   "execution_count": null,
   "metadata": {},
   "outputs": [],
   "source": []
  }
 ],
 "metadata": {
  "kernelspec": {
   "display_name": "Python 3.7.9 ('py3_jl')",
   "language": "python",
   "name": "python3"
  },
  "language_info": {
   "codemirror_mode": {
    "name": "ipython",
    "version": 3
   },
   "file_extension": ".py",
   "mimetype": "text/x-python",
   "name": "python",
   "nbconvert_exporter": "python",
   "pygments_lexer": "ipython3",
   "version": "3.7.9"
  },
  "orig_nbformat": 4,
  "vscode": {
   "interpreter": {
    "hash": "633901593404ab0ca75097f1aa57005418d4b1ffab94fa250eed4c20d41e00ac"
   }
  }
 },
 "nbformat": 4,
 "nbformat_minor": 2
}
